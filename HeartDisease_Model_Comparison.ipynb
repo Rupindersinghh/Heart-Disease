{
 "cells": [
  {
   "cell_type": "code",
   "execution_count": 1,
   "id": "9eb045bd-cdaf-4bdd-97b5-70900e915928",
   "metadata": {},
   "outputs": [],
   "source": [
    "import pandas as pd\n",
    "import numpy as np\n",
    "from sklearn.model_selection import train_test_split, GridSearchCV\n",
    "from sklearn.svm import SVC\n",
    "from sklearn.ensemble import RandomForestClassifier, GradientBoostingClassifier\n",
    "from sklearn.metrics import accuracy_score, precision_score, recall_score, f1_score, roc_auc_score, classification_report, roc_curve\n",
    "import matplotlib.pyplot as plt\n",
    "import warnings\n",
    "warnings.filterwarnings('ignore')\n"
   ]
  },
  {
   "cell_type": "code",
   "execution_count": 2,
   "id": "9227241c-5efd-416d-928a-80c73a79851b",
   "metadata": {},
   "outputs": [
    {
     "name": "stdout",
     "output_type": "stream",
     "text": [
      "File loaded from: C:/Users/roop1/OneDrive/Documents/lab2_healthcare/data/HeartDiseaseTrain-Test.csv.csv\n",
      "(1025, 14)\n",
      "Index(['age', 'sex', 'chest_pain_type', 'resting_blood_pressure',\n",
      "       'cholestoral', 'fasting_blood_sugar', 'rest_ecg', 'Max_heart_rate',\n",
      "       'exercise_induced_angina', 'oldpeak', 'slope',\n",
      "       'vessels_colored_by_flourosopy', 'thalassemia', 'target'],\n",
      "      dtype='object')\n"
     ]
    },
    {
     "data": {
      "text/html": [
       "<div>\n",
       "<style scoped>\n",
       "    .dataframe tbody tr th:only-of-type {\n",
       "        vertical-align: middle;\n",
       "    }\n",
       "\n",
       "    .dataframe tbody tr th {\n",
       "        vertical-align: top;\n",
       "    }\n",
       "\n",
       "    .dataframe thead th {\n",
       "        text-align: right;\n",
       "    }\n",
       "</style>\n",
       "<table border=\"1\" class=\"dataframe\">\n",
       "  <thead>\n",
       "    <tr style=\"text-align: right;\">\n",
       "      <th></th>\n",
       "      <th>age</th>\n",
       "      <th>sex</th>\n",
       "      <th>chest_pain_type</th>\n",
       "      <th>resting_blood_pressure</th>\n",
       "      <th>cholestoral</th>\n",
       "      <th>fasting_blood_sugar</th>\n",
       "      <th>rest_ecg</th>\n",
       "      <th>Max_heart_rate</th>\n",
       "      <th>exercise_induced_angina</th>\n",
       "      <th>oldpeak</th>\n",
       "      <th>slope</th>\n",
       "      <th>vessels_colored_by_flourosopy</th>\n",
       "      <th>thalassemia</th>\n",
       "      <th>target</th>\n",
       "    </tr>\n",
       "  </thead>\n",
       "  <tbody>\n",
       "    <tr>\n",
       "      <th>0</th>\n",
       "      <td>52</td>\n",
       "      <td>Male</td>\n",
       "      <td>Typical angina</td>\n",
       "      <td>125</td>\n",
       "      <td>212</td>\n",
       "      <td>Lower than 120 mg/ml</td>\n",
       "      <td>ST-T wave abnormality</td>\n",
       "      <td>168</td>\n",
       "      <td>No</td>\n",
       "      <td>1.0</td>\n",
       "      <td>Downsloping</td>\n",
       "      <td>Two</td>\n",
       "      <td>Reversable Defect</td>\n",
       "      <td>0</td>\n",
       "    </tr>\n",
       "    <tr>\n",
       "      <th>1</th>\n",
       "      <td>53</td>\n",
       "      <td>Male</td>\n",
       "      <td>Typical angina</td>\n",
       "      <td>140</td>\n",
       "      <td>203</td>\n",
       "      <td>Greater than 120 mg/ml</td>\n",
       "      <td>Normal</td>\n",
       "      <td>155</td>\n",
       "      <td>Yes</td>\n",
       "      <td>3.1</td>\n",
       "      <td>Upsloping</td>\n",
       "      <td>Zero</td>\n",
       "      <td>Reversable Defect</td>\n",
       "      <td>0</td>\n",
       "    </tr>\n",
       "    <tr>\n",
       "      <th>2</th>\n",
       "      <td>70</td>\n",
       "      <td>Male</td>\n",
       "      <td>Typical angina</td>\n",
       "      <td>145</td>\n",
       "      <td>174</td>\n",
       "      <td>Lower than 120 mg/ml</td>\n",
       "      <td>ST-T wave abnormality</td>\n",
       "      <td>125</td>\n",
       "      <td>Yes</td>\n",
       "      <td>2.6</td>\n",
       "      <td>Upsloping</td>\n",
       "      <td>Zero</td>\n",
       "      <td>Reversable Defect</td>\n",
       "      <td>0</td>\n",
       "    </tr>\n",
       "    <tr>\n",
       "      <th>3</th>\n",
       "      <td>61</td>\n",
       "      <td>Male</td>\n",
       "      <td>Typical angina</td>\n",
       "      <td>148</td>\n",
       "      <td>203</td>\n",
       "      <td>Lower than 120 mg/ml</td>\n",
       "      <td>ST-T wave abnormality</td>\n",
       "      <td>161</td>\n",
       "      <td>No</td>\n",
       "      <td>0.0</td>\n",
       "      <td>Downsloping</td>\n",
       "      <td>One</td>\n",
       "      <td>Reversable Defect</td>\n",
       "      <td>0</td>\n",
       "    </tr>\n",
       "    <tr>\n",
       "      <th>4</th>\n",
       "      <td>62</td>\n",
       "      <td>Female</td>\n",
       "      <td>Typical angina</td>\n",
       "      <td>138</td>\n",
       "      <td>294</td>\n",
       "      <td>Greater than 120 mg/ml</td>\n",
       "      <td>ST-T wave abnormality</td>\n",
       "      <td>106</td>\n",
       "      <td>No</td>\n",
       "      <td>1.9</td>\n",
       "      <td>Flat</td>\n",
       "      <td>Three</td>\n",
       "      <td>Fixed Defect</td>\n",
       "      <td>0</td>\n",
       "    </tr>\n",
       "  </tbody>\n",
       "</table>\n",
       "</div>"
      ],
      "text/plain": [
       "   age     sex chest_pain_type  resting_blood_pressure  cholestoral  \\\n",
       "0   52    Male  Typical angina                     125          212   \n",
       "1   53    Male  Typical angina                     140          203   \n",
       "2   70    Male  Typical angina                     145          174   \n",
       "3   61    Male  Typical angina                     148          203   \n",
       "4   62  Female  Typical angina                     138          294   \n",
       "\n",
       "      fasting_blood_sugar               rest_ecg  Max_heart_rate  \\\n",
       "0    Lower than 120 mg/ml  ST-T wave abnormality             168   \n",
       "1  Greater than 120 mg/ml                 Normal             155   \n",
       "2    Lower than 120 mg/ml  ST-T wave abnormality             125   \n",
       "3    Lower than 120 mg/ml  ST-T wave abnormality             161   \n",
       "4  Greater than 120 mg/ml  ST-T wave abnormality             106   \n",
       "\n",
       "  exercise_induced_angina  oldpeak        slope vessels_colored_by_flourosopy  \\\n",
       "0                      No      1.0  Downsloping                           Two   \n",
       "1                     Yes      3.1    Upsloping                          Zero   \n",
       "2                     Yes      2.6    Upsloping                          Zero   \n",
       "3                      No      0.0  Downsloping                           One   \n",
       "4                      No      1.9         Flat                         Three   \n",
       "\n",
       "         thalassemia  target  \n",
       "0  Reversable Defect       0  \n",
       "1  Reversable Defect       0  \n",
       "2  Reversable Defect       0  \n",
       "3  Reversable Defect       0  \n",
       "4       Fixed Defect       0  "
      ]
     },
     "execution_count": 2,
     "metadata": {},
     "output_type": "execute_result"
    }
   ],
   "source": [
    "import pandas as pd\n",
    "from tkinter import Tk\n",
    "from tkinter.filedialog import askopenfilename\n",
    "\n",
    "Tk().withdraw() \n",
    "file_path = askopenfilename(title=\"Select Heart Disease Dataset\")\n",
    "\n",
    "\n",
    "df = pd.read_csv(file_path)\n",
    "\n",
    "\n",
    "print(\"File loaded from:\", file_path)\n",
    "print(df.shape)\n",
    "print(df.columns)\n",
    "df.head()\n"
   ]
  },
  {
   "cell_type": "code",
   "execution_count": 3,
   "id": "47383427-5f0d-407d-84a4-b7bbb86aec30",
   "metadata": {},
   "outputs": [
    {
     "name": "stdout",
     "output_type": "stream",
     "text": [
      "age                              0\n",
      "sex                              0\n",
      "chest_pain_type                  0\n",
      "resting_blood_pressure           0\n",
      "cholestoral                      0\n",
      "fasting_blood_sugar              0\n",
      "rest_ecg                         0\n",
      "Max_heart_rate                   0\n",
      "exercise_induced_angina          0\n",
      "oldpeak                          0\n",
      "slope                            0\n",
      "vessels_colored_by_flourosopy    0\n",
      "thalassemia                      0\n",
      "target                           0\n",
      "dtype: int64\n"
     ]
    }
   ],
   "source": [
    "\n",
    "print(df.isnull().sum())\n"
   ]
  },
  {
   "cell_type": "code",
   "execution_count": 4,
   "id": "b811ee4c-86bb-4df2-828e-4c8ccc7e7fb5",
   "metadata": {},
   "outputs": [
    {
     "name": "stdout",
     "output_type": "stream",
     "text": [
      "Index(['age', 'sex', 'chest_pain_type', 'resting_blood_pressure',\n",
      "       'cholestoral', 'fasting_blood_sugar', 'rest_ecg', 'Max_heart_rate',\n",
      "       'exercise_induced_angina', 'oldpeak', 'slope',\n",
      "       'vessels_colored_by_flourosopy', 'thalassemia', 'target'],\n",
      "      dtype='object')\n"
     ]
    }
   ],
   "source": [
    "print(df.columns)\n"
   ]
  },
  {
   "cell_type": "code",
   "execution_count": 5,
   "id": "85215dee-baf0-48cd-a981-2110859ece9e",
   "metadata": {},
   "outputs": [],
   "source": [
    "# Encode categorical variables\n",
    "df_encoded = pd.get_dummies(df, drop_first=True)\n",
    "\n",
    "# Define features and target\n",
    "X = df_encoded.drop('target', axis=1)\n",
    "y = df_encoded['target']\n",
    "\n",
    "# Train-test split\n",
    "from sklearn.model_selection import train_test_split\n",
    "X_train, X_test, y_train, y_test = train_test_split(\n",
    "    X, y, test_size=0.2, random_state=42, stratify=y)\n"
   ]
  },
  {
   "cell_type": "code",
   "execution_count": 6,
   "id": "e6484850-caa7-4717-9748-238143c9db4c",
   "metadata": {},
   "outputs": [],
   "source": [
    "\n",
    "X = df.drop('target', axis=1)\n",
    "y = df['target']\n"
   ]
  },
  {
   "cell_type": "code",
   "execution_count": 7,
   "id": "42e35ed0-7662-4a1c-be19-e5c15cd26350",
   "metadata": {},
   "outputs": [],
   "source": [
    "from sklearn.model_selection import train_test_split\n",
    "\n",
    "X_train, X_test, y_train, y_test = train_test_split(\n",
    "    X, y, test_size=0.2, random_state=42, stratify=y)\n"
   ]
  },
  {
   "cell_type": "code",
   "execution_count": 8,
   "id": "372510e6-05f6-489f-9bc0-b8ff2b3f430d",
   "metadata": {},
   "outputs": [],
   "source": [
    "# Encode categorical variables\n",
    "df_encoded = pd.get_dummies(df, drop_first=True)\n",
    "\n",
    "# Feature and target split (must be after encoding)\n",
    "X = df_encoded.drop('target', axis=1)\n",
    "y = df_encoded['target']\n",
    "\n",
    "# Split the data again\n",
    "from sklearn.model_selection import train_test_split\n",
    "X_train, X_test, y_train, y_test = train_test_split(\n",
    "    X, y, test_size=0.2, random_state=42, stratify=y)\n"
   ]
  },
  {
   "cell_type": "code",
   "execution_count": 9,
   "id": "6f9a1436-d0d3-42e7-8cd7-f23cf24e7266",
   "metadata": {},
   "outputs": [
    {
     "name": "stdout",
     "output_type": "stream",
     "text": [
      "age                                           int64\n",
      "resting_blood_pressure                        int64\n",
      "cholestoral                                   int64\n",
      "Max_heart_rate                                int64\n",
      "oldpeak                                     float64\n",
      "sex_Male                                       bool\n",
      "chest_pain_type_Atypical angina                bool\n",
      "chest_pain_type_Non-anginal pain               bool\n",
      "chest_pain_type_Typical angina                 bool\n",
      "fasting_blood_sugar_Lower than 120 mg/ml       bool\n",
      "rest_ecg_Normal                                bool\n",
      "rest_ecg_ST-T wave abnormality                 bool\n",
      "exercise_induced_angina_Yes                    bool\n",
      "slope_Flat                                     bool\n",
      "slope_Upsloping                                bool\n",
      "vessels_colored_by_flourosopy_One              bool\n",
      "vessels_colored_by_flourosopy_Three            bool\n",
      "vessels_colored_by_flourosopy_Two              bool\n",
      "vessels_colored_by_flourosopy_Zero             bool\n",
      "thalassemia_No                                 bool\n",
      "thalassemia_Normal                             bool\n",
      "thalassemia_Reversable Defect                  bool\n",
      "dtype: object\n"
     ]
    }
   ],
   "source": [
    "print(X_train.dtypes)\n"
   ]
  },
  {
   "cell_type": "code",
   "execution_count": 10,
   "id": "ed1b6e49-4a3b-49f5-9cdb-fd8b5e017662",
   "metadata": {},
   "outputs": [
    {
     "name": "stdout",
     "output_type": "stream",
     "text": [
      "Best Random Forest Parameters: {'max_depth': 10, 'n_estimators': 100}\n"
     ]
    }
   ],
   "source": [
    "from sklearn.ensemble import RandomForestClassifier\n",
    "from sklearn.model_selection import GridSearchCV\n",
    "\n",
    "# Initialize the model\n",
    "rf = RandomForestClassifier(random_state=42)\n",
    "\n",
    "# Define hyperparameters to search\n",
    "param_grid_rf = {\n",
    "    'n_estimators': [50, 100, 150],\n",
    "    'max_depth': [3, 5, 10]\n",
    "}\n",
    "\n",
    "# Grid Search\n",
    "grid_rf = GridSearchCV(rf, param_grid_rf, cv=5, scoring='f1')\n",
    "grid_rf.fit(X_train, y_train)\n",
    "\n",
    "# Best parameters\n",
    "print(\"Best Random Forest Parameters:\", grid_rf.best_params_)\n"
   ]
  },
  {
   "cell_type": "code",
   "execution_count": 11,
   "id": "99ad0a76-9a24-4b3f-9a35-8f9a112bc5fd",
   "metadata": {},
   "outputs": [
    {
     "name": "stdout",
     "output_type": "stream",
     "text": [
      "Best GBM Parameters: {'learning_rate': 0.1, 'max_depth': 5, 'n_estimators': 100}\n"
     ]
    }
   ],
   "source": [
    "from sklearn.ensemble import GradientBoostingClassifier\n",
    "\n",
    "# Initialize GBM model\n",
    "gbm = GradientBoostingClassifier(random_state=42)\n",
    "\n",
    "# Define hyperparameter grid\n",
    "param_grid_gbm = {\n",
    "    'n_estimators': [50, 100],\n",
    "    'learning_rate': [0.05, 0.1],\n",
    "    'max_depth': [3, 5]\n",
    "}\n",
    "\n",
    "# Grid Search with 5-fold CV\n",
    "grid_gbm = GridSearchCV(gbm, param_grid_gbm, cv=5, scoring='f1')\n",
    "grid_gbm.fit(X_train, y_train)\n",
    "\n",
    "# Print best params\n",
    "print(\"Best GBM Parameters:\", grid_gbm.best_params_)\n"
   ]
  },
  {
   "cell_type": "code",
   "execution_count": 12,
   "id": "871a1859-135c-40db-8d58-cafa17834087",
   "metadata": {},
   "outputs": [
    {
     "name": "stdout",
     "output_type": "stream",
     "text": [
      "✅ Best SVM Parameters: {'C': 1, 'kernel': 'linear'}\n"
     ]
    }
   ],
   "source": [
    "from sklearn.svm import SVC\n",
    "from sklearn.model_selection import GridSearchCV\n",
    "\n",
    "# Step 1: Define SVM model\n",
    "svm = SVC(probability=True, random_state=42)\n",
    "\n",
    "# Step 2: Define parameter grid (simple for fast tuning)\n",
    "param_grid_svm = {\n",
    "    'C': [1],              # You can add [0.1, 1, 10] if you want more\n",
    "    'kernel': ['linear']   # Use 'linear' only to speed up training\n",
    "}\n",
    "\n",
    "# Step 3: Set up GridSearchCV\n",
    "grid_svm = GridSearchCV(\n",
    "    estimator=svm,\n",
    "    param_grid=param_grid_svm,\n",
    "    cv=3,                  # 3-fold CV (faster than 5)\n",
    "    scoring='f1'\n",
    ")\n",
    "\n",
    "# Step 4: Fit the model\n",
    "grid_svm.fit(X_train, y_train)\n",
    "\n",
    "# Step 5: Print best parameters\n",
    "print(\"✅ Best SVM Parameters:\", grid_svm.best_params_)\n"
   ]
  },
  {
   "cell_type": "code",
   "execution_count": 13,
   "id": "9b7f5701-e12b-4da9-a65c-9e50ce879256",
   "metadata": {},
   "outputs": [],
   "source": [
    "from sklearn.metrics import accuracy_score, precision_score, recall_score, f1_score, roc_auc_score, classification_report\n",
    "\n",
    "def evaluate_model(name, model, X_test, y_test):\n",
    "    y_pred = model.predict(X_test)\n",
    "    y_proba = model.predict_proba(X_test)[:, 1]  # for AUC\n",
    "    \n",
    "    print(f\"\\n🔍 {name} Evaluation:\")\n",
    "    print(classification_report(y_test, y_pred))\n",
    "    print(\"AUC-ROC:\", round(roc_auc_score(y_test, y_proba), 3))\n",
    "    \n",
    "    return {\n",
    "        'Model': name,\n",
    "        'Accuracy': accuracy_score(y_test, y_pred),\n",
    "        'Precision': precision_score(y_test, y_pred),\n",
    "        'Recall': recall_score(y_test, y_pred),\n",
    "        'F1-Score': f1_score(y_test, y_pred),\n",
    "        'AUC-ROC': roc_auc_score(y_test, y_proba)\n",
    "    }\n"
   ]
  },
  {
   "cell_type": "code",
   "execution_count": 14,
   "id": "6b693bbc-3d61-4b2c-ada9-3b3e3e7dbbab",
   "metadata": {},
   "outputs": [
    {
     "name": "stdout",
     "output_type": "stream",
     "text": [
      "\n",
      "🔍 SVM Evaluation:\n",
      "              precision    recall  f1-score   support\n",
      "\n",
      "           0       0.92      0.81      0.86       100\n",
      "           1       0.84      0.93      0.88       105\n",
      "\n",
      "    accuracy                           0.87       205\n",
      "   macro avg       0.88      0.87      0.87       205\n",
      "weighted avg       0.88      0.87      0.87       205\n",
      "\n",
      "AUC-ROC: 0.942\n",
      "\n",
      "🔍 Random Forest Evaluation:\n",
      "              precision    recall  f1-score   support\n",
      "\n",
      "           0       1.00      1.00      1.00       100\n",
      "           1       1.00      1.00      1.00       105\n",
      "\n",
      "    accuracy                           1.00       205\n",
      "   macro avg       1.00      1.00      1.00       205\n",
      "weighted avg       1.00      1.00      1.00       205\n",
      "\n",
      "AUC-ROC: 1.0\n",
      "\n",
      "🔍 GBM Evaluation:\n",
      "              precision    recall  f1-score   support\n",
      "\n",
      "           0       1.00      1.00      1.00       100\n",
      "           1       1.00      1.00      1.00       105\n",
      "\n",
      "    accuracy                           1.00       205\n",
      "   macro avg       1.00      1.00      1.00       205\n",
      "weighted avg       1.00      1.00      1.00       205\n",
      "\n",
      "AUC-ROC: 1.0\n"
     ]
    }
   ],
   "source": [
    "results = []\n",
    "\n",
    "# Evaluate all three models\n",
    "results.append(evaluate_model(\"SVM\", grid_svm.best_estimator_, X_test, y_test))\n",
    "results.append(evaluate_model(\"Random Forest\", grid_rf.best_estimator_, X_test, y_test))\n",
    "results.append(evaluate_model(\"GBM\", grid_gbm.best_estimator_, X_test, y_test))\n"
   ]
  },
  {
   "cell_type": "code",
   "execution_count": 15,
   "id": "587686d2-924c-49de-9a3d-d5a307650e12",
   "metadata": {},
   "outputs": [
    {
     "data": {
      "text/html": [
       "<div>\n",
       "<style scoped>\n",
       "    .dataframe tbody tr th:only-of-type {\n",
       "        vertical-align: middle;\n",
       "    }\n",
       "\n",
       "    .dataframe tbody tr th {\n",
       "        vertical-align: top;\n",
       "    }\n",
       "\n",
       "    .dataframe thead th {\n",
       "        text-align: right;\n",
       "    }\n",
       "</style>\n",
       "<table border=\"1\" class=\"dataframe\">\n",
       "  <thead>\n",
       "    <tr style=\"text-align: right;\">\n",
       "      <th></th>\n",
       "      <th>Accuracy</th>\n",
       "      <th>Precision</th>\n",
       "      <th>Recall</th>\n",
       "      <th>F1-Score</th>\n",
       "      <th>AUC-ROC</th>\n",
       "    </tr>\n",
       "    <tr>\n",
       "      <th>Model</th>\n",
       "      <th></th>\n",
       "      <th></th>\n",
       "      <th></th>\n",
       "      <th></th>\n",
       "      <th></th>\n",
       "    </tr>\n",
       "  </thead>\n",
       "  <tbody>\n",
       "    <tr>\n",
       "      <th>SVM</th>\n",
       "      <td>0.873</td>\n",
       "      <td>0.838</td>\n",
       "      <td>0.933</td>\n",
       "      <td>0.883</td>\n",
       "      <td>0.942</td>\n",
       "    </tr>\n",
       "    <tr>\n",
       "      <th>Random Forest</th>\n",
       "      <td>1.000</td>\n",
       "      <td>1.000</td>\n",
       "      <td>1.000</td>\n",
       "      <td>1.000</td>\n",
       "      <td>1.000</td>\n",
       "    </tr>\n",
       "    <tr>\n",
       "      <th>GBM</th>\n",
       "      <td>1.000</td>\n",
       "      <td>1.000</td>\n",
       "      <td>1.000</td>\n",
       "      <td>1.000</td>\n",
       "      <td>1.000</td>\n",
       "    </tr>\n",
       "  </tbody>\n",
       "</table>\n",
       "</div>"
      ],
      "text/plain": [
       "               Accuracy  Precision  Recall  F1-Score  AUC-ROC\n",
       "Model                                                        \n",
       "SVM               0.873      0.838   0.933     0.883    0.942\n",
       "Random Forest     1.000      1.000   1.000     1.000    1.000\n",
       "GBM               1.000      1.000   1.000     1.000    1.000"
      ]
     },
     "execution_count": 15,
     "metadata": {},
     "output_type": "execute_result"
    }
   ],
   "source": [
    "import pandas as pd\n",
    "\n",
    "results_df = pd.DataFrame(results)\n",
    "results_df.set_index(\"Model\", inplace=True)\n",
    "results_df.round(3)\n"
   ]
  },
  {
   "cell_type": "code",
   "execution_count": 16,
   "id": "af496563-6e8d-4247-8c9c-1c8bd7eadb73",
   "metadata": {},
   "outputs": [
    {
     "data": {
      "text/plain": [
       "<Axes: title={'center': 'Model Performance Comparison'}, xlabel='Model'>"
      ]
     },
     "execution_count": 16,
     "metadata": {},
     "output_type": "execute_result"
    },
    {
     "data": {
      "image/png": "[encoded data removed]",
      "text/plain": [
       "<Figure size 1000x600 with 1 Axes>"
      ]
     },
     "metadata": {},
     "output_type": "display_data"
    }
   ],
   "source": [
    "results_df[['Accuracy', 'Precision', 'Recall', 'F1-Score', 'AUC-ROC']].plot.bar(figsize=(10,6), title=\"Model Performance Comparison\")\n"
   ]
  },
  {
   "cell_type": "code",
   "execution_count": null,
   "id": "690a30c7-f90b-4f0e-a7af-b3e3a86ea568",
   "metadata": {},
   "outputs": [],
   "source": []
  }
 ],
 "metadata": {
  "kernelspec": {
   "display_name": "Python (lab2_env)",
   "language": "python",
   "name": "lab2_env"
  },
  "language_info": {
   "codemirror_mode": {
    "name": "ipython",
    "version": 3
   },
   "file_extension": ".py",
   "mimetype": "text/x-python",
   "name": "python",
   "nbconvert_exporter": "python",
   "pygments_lexer": "ipython3",
   "version": "3.10.18"
  }
 },
 "nbformat": 4,
 "nbformat_minor": 5
}
